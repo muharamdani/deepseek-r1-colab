{
  "nbformat": 4,
  "nbformat_minor": 0,
  "metadata": {
    "colab": {
      "provenance": [],
      "gpuType": "T4"
    },
    "kernelspec": {
      "name": "python3",
      "display_name": "Python 3"
    },
    "language_info": {
      "name": "python"
    },
    "accelerator": "GPU"
  },
  "cells": [
    {
      "cell_type": "markdown",
      "source": [
        "# Auth Token"
      ],
      "metadata": {
        "id": "b0-sQEzp_BQJ"
      }
    },
    {
      "cell_type": "code",
      "source": [
        "AUTH_TOKEN=\"your auth token\""
      ],
      "metadata": {
        "id": "8LUSxRAlwL0t"
      },
      "execution_count": null,
      "outputs": []
    },
    {
      "cell_type": "markdown",
      "source": [
        "# Initial depedencies"
      ],
      "metadata": {
        "id": "9uZD4FO1dTLG"
      }
    },
    {
      "cell_type": "code",
      "execution_count": null,
      "metadata": {
        "id": "xAt881qMKCO8"
      },
      "outputs": [],
      "source": [
        "!pip install colab-xterm pyngrok && apt install lshw nvtop\n",
        "%load_ext colabxterm"
      ]
    },
    {
      "cell_type": "code",
      "source": [
        "!curl https://ollama.ai/install.sh | sh"
      ],
      "metadata": {
        "id": "Ra3lDxbzd1PF"
      },
      "execution_count": null,
      "outputs": []
    },
    {
      "cell_type": "markdown",
      "source": [
        "# XTERM\n",
        "run `ollama serve &` at xterm"
      ],
      "metadata": {
        "id": "CoTfQ0gX0Kin"
      }
    },
    {
      "cell_type": "code",
      "source": [
        "%xterm height=400"
      ],
      "metadata": {
        "id": "1JWWm4HN0KK3"
      },
      "execution_count": null,
      "outputs": []
    },
    {
      "cell_type": "markdown",
      "source": [
        "# Pull model"
      ],
      "metadata": {
        "id": "jTg-dp4i0yCi"
      }
    },
    {
      "cell_type": "code",
      "source": [
        "!ollama pull deepseek-r1:14b"
      ],
      "metadata": {
        "id": "XzmvB8BC0wlZ"
      },
      "execution_count": null,
      "outputs": []
    },
    {
      "cell_type": "markdown",
      "source": [
        "# Setup PYN"
      ],
      "metadata": {
        "id": "KzbvN06Gsxb0"
      }
    },
    {
      "cell_type": "code",
      "source": [
        "import os\n",
        "from pyngrok import ngrok\n",
        "\n",
        "port = \"11434\"\n",
        "ngrok.set_auth_token(AUTH_TOKEN)\n",
        "public_url = ngrok.connect(port, \"http\", host_header=\"localhost:11434\").public_url\n",
        "print(f\" * link \\\"{public_url}\\\" -> \\\"http://127.0.0.1:{port}\\\"\")"
      ],
      "metadata": {
        "id": "AGo8t4G2s0nw"
      },
      "execution_count": null,
      "outputs": []
    },
    {
      "cell_type": "markdown",
      "source": [
        "# Misc"
      ],
      "metadata": {
        "id": "tOGHEkVWBMXq"
      }
    },
    {
      "cell_type": "code",
      "source": [
        "# Prevent colab automatically shutdown\n",
        "import time\n",
        "\n",
        "start_time = time.time()\n",
        "while True:\n",
        "    if time.time() - start_time > 3600:\n",
        "        break\n",
        "    time.sleep(2)\n",
        "    print(\"keep running\")"
      ],
      "metadata": {
        "id": "6mHYJ5h5xaBR"
      },
      "execution_count": null,
      "outputs": []
    }
  ]
}